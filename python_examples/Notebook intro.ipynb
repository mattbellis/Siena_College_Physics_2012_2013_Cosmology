{
 "metadata": {
  "name": "Notebook intro"
 },
 "nbformat": 3,
 "nbformat_minor": 0,
 "worksheets": [
  {
   "cells": [
    {
     "cell_type": "heading",
     "level": 3,
     "metadata": {},
     "source": [
      "Intro to using the IPython Notebook extension."
     ]
    },
    {
     "cell_type": "markdown",
     "metadata": {},
     "source": [
      "The <a href=\"http://ipython.org/notebook.html\">Notebook</a> extension to <a href=\"http://ipython.org/\">IPython</a> allows you to run Python interactively, and have all your work appear in your browser. This also allows you to save all your work to a Notebook (.ipyb) file for later editing. Parts of this interface have been inspired by similar tools in <a href=\"http://www.wolfram.com/mathematica/\">Mathematica</a>. \n",
      "\n",
      "We emphasize that Python is still running on *your* laptop or desktop, and all your files will be saved there as well. This is different than running the web version of <a href=\"http://www.mathworks.com/products/matlab/\">MATLAB</a>, with which you may or may not already have had some experience. \n",
      "\n",
      "In the Notebook, you can use Python/IPython, just like if you were running in IDLE or any other Python shells. "
     ]
    },
    {
     "cell_type": "code",
     "collapsed": false,
     "input": [
      "print \"hello world\""
     ],
     "language": "python",
     "metadata": {},
     "outputs": [
      {
       "output_type": "stream",
       "stream": "stdout",
       "text": [
        "hello world\n"
       ]
      }
     ],
     "prompt_number": 3
    },
    {
     "cell_type": "code",
     "collapsed": false,
     "input": [
      "x = 10\n",
      "x"
     ],
     "language": "python",
     "metadata": {},
     "outputs": [
      {
       "output_type": "pyout",
       "prompt_number": 4,
       "text": [
        "10"
       ]
      }
     ],
     "prompt_number": 4
    },
    {
     "cell_type": "code",
     "collapsed": false,
     "input": [
      "print x + 3"
     ],
     "language": "python",
     "metadata": {},
     "outputs": [
      {
       "output_type": "stream",
       "stream": "stdout",
       "text": [
        "13\n"
       ]
      }
     ],
     "prompt_number": 5
    },
    {
     "cell_type": "code",
     "collapsed": false,
     "input": [
      "def myfunc(x):\n",
      "    return x + 3\n",
      "\n",
      "print myfunc(10)\n"
     ],
     "language": "python",
     "metadata": {},
     "outputs": [
      {
       "output_type": "stream",
       "stream": "stdout",
       "text": [
        "13\n"
       ]
      }
     ],
     "prompt_number": 6
    },
    {
     "cell_type": "markdown",
     "metadata": {},
     "source": [
      "You have access to all the help information as well."
     ]
    },
    {
     "cell_type": "code",
     "collapsed": false,
     "input": [
      "? list"
     ],
     "language": "python",
     "metadata": {},
     "outputs": [],
     "prompt_number": 10
    },
    {
     "cell_type": "code",
     "collapsed": false,
     "input": [
      "? int"
     ],
     "language": "python",
     "metadata": {},
     "outputs": [],
     "prompt_number": 11
    },
    {
     "cell_type": "code",
     "collapsed": false,
     "input": [],
     "language": "python",
     "metadata": {},
     "outputs": []
    }
   ],
   "metadata": {}
  }
 ]
}