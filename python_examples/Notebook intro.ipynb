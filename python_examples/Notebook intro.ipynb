{
 "metadata": {
  "name": "Notebook intro"
 },
 "nbformat": 3,
 "nbformat_minor": 0,
 "worksheets": [
  {
   "cells": [
    {
     "cell_type": "heading",
     "level": 1,
     "metadata": {},
     "source": [
      "Intro to using the iPython notebook."
     ]
    },
    {
     "cell_type": "raw",
     "metadata": {},
     "source": [
      "This "
     ]
    }
   ],
   "metadata": {}
  }
 ]
}